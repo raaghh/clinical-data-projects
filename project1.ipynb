{
 "cells": [
  {
   "cell_type": "code",
   "execution_count": 1,
   "id": "9518679d-1e1c-40a7-a41c-44f81ce3d2bf",
   "metadata": {},
   "outputs": [
    {
     "data": {
      "text/plain": [
       "'python test'"
      ]
     },
     "execution_count": 1,
     "metadata": {},
     "output_type": "execute_result"
    }
   ],
   "source": [
    "\"python test\""
   ]
  },
  {
   "cell_type": "code",
   "execution_count": 2,
   "id": "1fa5551d-e349-4a9d-bffd-f69d099ef831",
   "metadata": {},
   "outputs": [
    {
     "ename": "NameError",
     "evalue": "name 'hwllow' is not defined",
     "output_type": "error",
     "traceback": [
      "\u001b[0;31m---------------------------------------------------------------------------\u001b[0m",
      "\u001b[0;31mNameError\u001b[0m                                 Traceback (most recent call last)",
      "Cell \u001b[0;32mIn[2], line 1\u001b[0m\n\u001b[0;32m----> 1\u001b[0m \u001b[38;5;28mprint\u001b[39m[hwllow]\n",
      "\u001b[0;31mNameError\u001b[0m: name 'hwllow' is not defined"
     ]
    }
   ],
   "source": [
    "print[hwllow]\n"
   ]
  },
  {
   "cell_type": "code",
   "execution_count": 3,
   "id": "41876714-be9f-483d-9cb6-ce5f72caa7ed",
   "metadata": {},
   "outputs": [
    {
     "ename": "TypeError",
     "evalue": "'builtin_function_or_method' object is not subscriptable",
     "output_type": "error",
     "traceback": [
      "\u001b[0;31m---------------------------------------------------------------------------\u001b[0m",
      "\u001b[0;31mTypeError\u001b[0m                                 Traceback (most recent call last)",
      "Cell \u001b[0;32mIn[3], line 1\u001b[0m\n\u001b[0;32m----> 1\u001b[0m \u001b[38;5;28mprint\u001b[39m[\u001b[38;5;124m'\u001b[39m\u001b[38;5;124mhellow\u001b[39m\u001b[38;5;124m'\u001b[39m]\n",
      "\u001b[0;31mTypeError\u001b[0m: 'builtin_function_or_method' object is not subscriptable"
     ]
    }
   ],
   "source": [
    "print['hellow']\n"
   ]
  },
  {
   "cell_type": "code",
   "execution_count": 4,
   "id": "be4f9b44-3f21-4b21-8f09-12dc6a7c332b",
   "metadata": {},
   "outputs": [],
   "source": [
    "df = [1,2,3]\n"
   ]
  },
  {
   "cell_type": "code",
   "execution_count": 1,
   "id": "8d00bdd5-218a-4d74-bc62-668d9129634b",
   "metadata": {},
   "outputs": [
    {
     "ename": "SyntaxError",
     "evalue": "invalid syntax (3133737495.py, line 1)",
     "output_type": "error",
     "traceback": [
      "\u001b[0;36m  Cell \u001b[0;32mIn[1], line 1\u001b[0;36m\u001b[0m\n\u001b[0;31m    echo \"print('Hello, clinical data!')\" > test.py\u001b[0m\n\u001b[0m         ^\u001b[0m\n\u001b[0;31mSyntaxError\u001b[0m\u001b[0;31m:\u001b[0m invalid syntax\n"
     ]
    }
   ],
   "source": [
    "echo \"print('Hello, clinical data!')\" > test.py"
   ]
  },
  {
   "cell_type": "code",
   "execution_count": null,
   "id": "3d7af779-59fa-4eca-bc82-811446eb71d7",
   "metadata": {},
   "outputs": [],
   "source": []
  }
 ],
 "metadata": {
  "kernelspec": {
   "display_name": "Python 3 (ipykernel)",
   "language": "python",
   "name": "python3"
  },
  "language_info": {
   "codemirror_mode": {
    "name": "ipython",
    "version": 3
   },
   "file_extension": ".py",
   "mimetype": "text/x-python",
   "name": "python",
   "nbconvert_exporter": "python",
   "pygments_lexer": "ipython3",
   "version": "3.11.11"
  }
 },
 "nbformat": 4,
 "nbformat_minor": 5
}
